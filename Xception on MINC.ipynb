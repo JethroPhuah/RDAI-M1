{
 "cells": [
  {
   "cell_type": "code",
   "execution_count": 1,
   "metadata": {
    "executionInfo": {
     "elapsed": 42,
     "status": "ok",
     "timestamp": 1666251086444,
     "user": {
      "displayName": "Zhi Fah",
      "userId": "01964573741342854705"
     },
     "user_tz": -480
    },
    "id": "jUxxN9_3SHR6"
   },
   "outputs": [],
   "source": [
    "#importing other required libraries\n",
    "import numpy as np\n",
    "import pandas as pd\n",
    "from sklearn.utils.multiclass import unique_labels\n",
    "import matplotlib.pyplot as plt\n",
    "import matplotlib.image as mpimg\n",
    "import seaborn as sns\n",
    "import itertools\n",
    "from sklearn.model_selection import train_test_split\n",
    "from sklearn.metrics import confusion_matrix\n",
    "import tensorflow as tf\n",
    "import tensorflow_docs as tfdocs\n",
    "import tensorflow_docs.modeling\n",
    "import tensorflow_docs.plots\n",
    "import keras_tuner as kt\n",
    "from tensorflow.keras.utils import image_dataset_from_directory\n",
    "from tensorflow.keras.models import Sequential, Model\n",
    "from tensorflow.keras.applications import Xception, ResNet50\n",
    "from tensorflow.keras.preprocessing.image import ImageDataGenerator, load_img, img_to_array\n",
    "from tensorflow.keras.optimizers import SGD, Adam\n",
    "from tensorflow.keras.callbacks import ReduceLROnPlateau\n",
    "from tensorflow.keras.layers import Input, Flatten, Dense, BatchNormalization, Activation, Dropout, GlobalAveragePooling2D, Rescaling\n",
    "from keras.utils.np_utils import to_categorical\n",
    "from tensorflow.keras.applications.xception import preprocess_input, decode_predictions\n",
    "import random\n",
    "import cv2\n",
    "import os\n",
    "from pathlib import Path\n",
    "from PIL import Image, ImageFile\n",
    "from PIL import ImageFile\n",
    "import splitfolders"
   ]
  },
  {
   "cell_type": "code",
   "execution_count": 2,
   "metadata": {},
   "outputs": [],
   "source": [
    "SEED = 42\n",
    "\n",
    "import random \n",
    "random.seed(SEED)\n",
    "\n",
    "import numpy as np\n",
    "np.random.seed(SEED)\n",
    "\n",
    "import tensorflow as tf\n",
    "tf.random.set_seed(SEED)"
   ]
  },
  {
   "cell_type": "code",
   "execution_count": 3,
   "metadata": {},
   "outputs": [
    {
     "name": "stdout",
     "output_type": "stream",
     "text": [
      "Num GPUs Available:  1\n"
     ]
    }
   ],
   "source": [
    "os.environ[\"CUDA_VISIBLE_DEVICES\"] = \"0\"\n",
    "os.environ['TF_CPP_MIN_LOG_LEVEL'] = '2' \n",
    "ImageFile.LOAD_TRUNCATED_IMAGES = True\n",
    "print(\"Num GPUs Available: \", len(tf.config.list_physical_devices('GPU')))"
   ]
  },
  {
   "cell_type": "code",
   "execution_count": 4,
   "metadata": {},
   "outputs": [],
   "source": [
    "tf.compat.v1.logging.set_verbosity(tf.compat.v1.logging.ERROR)"
   ]
  },
  {
   "cell_type": "markdown",
   "metadata": {},
   "source": [
    "### MINC Dataset Preperation"
   ]
  },
  {
   "cell_type": "code",
   "execution_count": 5,
   "metadata": {},
   "outputs": [],
   "source": [
    "# paramaters\n",
    "batch_size= 32\n",
    "epochs= 50\n",
    "img_size = 150 \n",
    "num_classes = 23"
   ]
  },
  {
   "cell_type": "code",
   "execution_count": 6,
   "metadata": {},
   "outputs": [],
   "source": [
    "minc_train_dir = 'minc-2500/train'\n",
    "minc_val_dir = 'minc-2500/val'\n",
    "minc_test_dir = 'minc-2500/test'\n",
    "\n",
    "# paramaters\n",
    "batch_size= 32\n",
    "epochs= 50\n",
    "img_size = 150 "
   ]
  },
  {
   "cell_type": "code",
   "execution_count": 7,
   "metadata": {},
   "outputs": [],
   "source": [
    "image_generator = ImageDataGenerator(\n",
    "    preprocessing_function = preprocess_input,\n",
    "    horizontal_flip = True,\n",
    "    vertical_flip = True,\n",
    "    zoom_range=0.2, \n",
    "    shear_range = 0.2,\n",
    "    )\n",
    "\n",
    "image_generator_test = ImageDataGenerator(preprocessing_function = preprocess_input)"
   ]
  },
  {
   "cell_type": "code",
   "execution_count": 8,
   "metadata": {},
   "outputs": [
    {
     "name": "stdout",
     "output_type": "stream",
     "text": [
      "Found 46000 images belonging to 23 classes.\n",
      "Found 5750 images belonging to 23 classes.\n",
      "Found 5750 images belonging to 23 classes.\n"
     ]
    }
   ],
   "source": [
    "# No augmentation of train set\n",
    "train_ds = image_generator_test.flow_from_directory(\n",
    "  minc_train_dir,\n",
    "  shuffle = True,\n",
    "  target_size = (img_size, img_size),\n",
    "  class_mode = 'categorical',\n",
    "  batch_size = batch_size\n",
    "  )\n",
    "\n",
    "val_ds = image_generator_test.flow_from_directory(\n",
    "  minc_val_dir,\n",
    "  shuffle = True,\n",
    "  target_size = (img_size, img_size),\n",
    "  class_mode = 'categorical',\n",
    "  batch_size = batch_size\n",
    "  )\n",
    "\n",
    "test_ds = image_generator_test.flow_from_directory(\n",
    "  minc_test_dir,\n",
    "  shuffle = False,\n",
    "  target_size = (img_size, img_size),\n",
    "  class_mode = 'categorical',\n",
    "  batch_size = batch_size\n",
    "  )"
   ]
  },
  {
   "cell_type": "markdown",
   "metadata": {},
   "source": [
    "### Xception base model (Transfer Learning)"
   ]
  },
  {
   "cell_type": "code",
   "execution_count": 10,
   "metadata": {},
   "outputs": [],
   "source": [
    "base_model = Xception(\n",
    "    weights = \"imagenet\",  # Load weights pre-trained on ImageNet.\n",
    "    input_shape = (150, 150, 3),\n",
    "    include_top = False,\n",
    ")  # Do not include the ImageNet classifier at the top."
   ]
  },
  {
   "cell_type": "markdown",
   "metadata": {},
   "source": [
    "### Model without augmentation (Unfreeze)"
   ]
  },
  {
   "cell_type": "code",
   "execution_count": 20,
   "metadata": {},
   "outputs": [],
   "source": [
    "# Freeze base model\n",
    "base_model.trainable = True\n",
    "\n",
    "#Adding layers to the Xception\n",
    "minc_model=Sequential()\n",
    "#Add the Dense layers along with activation and batch normalization\n",
    "minc_model.add(base_model)\n",
    "minc_model.add(Flatten())\n",
    "minc_model.add(Dense(len(train_ds.class_indices),activation=('softmax')))\n",
    "\n",
    "#Compiling Xception\n",
    "\n",
    "minc_model.compile(optimizer = tf.keras.optimizers.SGD(0.001), \n",
    "                     loss = 'categorical_crossentropy', \n",
    "                     metrics = ['accuracy'] )"
   ]
  },
  {
   "cell_type": "code",
   "execution_count": 21,
   "metadata": {
    "scrolled": true
   },
   "outputs": [
    {
     "name": "stdout",
     "output_type": "stream",
     "text": [
      "Epoch 1/50\n",
      "1438/1438 [==============================] - 182s 125ms/step - loss: 0.8709 - accuracy: 0.7406 - val_loss: 0.8145 - val_accuracy: 0.7544\n",
      "Epoch 2/50\n",
      "1438/1438 [==============================] - 164s 114ms/step - loss: 0.6866 - accuracy: 0.7847 - val_loss: 0.7909 - val_accuracy: 0.7602\n",
      "Epoch 3/50\n",
      "1438/1438 [==============================] - 164s 114ms/step - loss: 0.6461 - accuracy: 0.7961 - val_loss: 0.7899 - val_accuracy: 0.7597\n",
      "Epoch 4/50\n",
      "1438/1438 [==============================] - 162s 112ms/step - loss: 0.6252 - accuracy: 0.8027 - val_loss: 0.7859 - val_accuracy: 0.7612\n",
      "Epoch 5/50\n",
      "1438/1438 [==============================] - 162s 113ms/step - loss: 0.6089 - accuracy: 0.8060 - val_loss: 0.7881 - val_accuracy: 0.7631\n",
      "Epoch 6/50\n",
      "1438/1438 [==============================] - 161s 112ms/step - loss: 0.5896 - accuracy: 0.8125 - val_loss: 0.7914 - val_accuracy: 0.7607\n",
      "Epoch 7/50\n",
      "1438/1438 [==============================] - 162s 112ms/step - loss: 0.5831 - accuracy: 0.8133 - val_loss: 0.7908 - val_accuracy: 0.7603\n",
      "Epoch 8/50\n",
      "1438/1438 [==============================] - 163s 113ms/step - loss: 0.5692 - accuracy: 0.8180 - val_loss: 0.7919 - val_accuracy: 0.7586\n",
      "Epoch 9/50\n",
      "1438/1438 [==============================] - 163s 113ms/step - loss: 0.5594 - accuracy: 0.8184 - val_loss: 0.7955 - val_accuracy: 0.7581\n",
      "Epoch 10/50\n",
      "1438/1438 [==============================] - 162s 112ms/step - loss: 0.5492 - accuracy: 0.8226 - val_loss: 0.7956 - val_accuracy: 0.7602\n",
      "Epoch 11/50\n",
      "1438/1438 [==============================] - 164s 114ms/step - loss: 0.5473 - accuracy: 0.8242 - val_loss: 0.7910 - val_accuracy: 0.7647\n",
      "Epoch 12/50\n",
      "1438/1438 [==============================] - 163s 113ms/step - loss: 0.5409 - accuracy: 0.8243 - val_loss: 0.7884 - val_accuracy: 0.7621\n",
      "Epoch 13/50\n",
      "1438/1438 [==============================] - 162s 113ms/step - loss: 0.5352 - accuracy: 0.8271 - val_loss: 0.7918 - val_accuracy: 0.7616\n",
      "Epoch 14/50\n",
      "1438/1438 [==============================] - 161s 112ms/step - loss: 0.5257 - accuracy: 0.8294 - val_loss: 0.7968 - val_accuracy: 0.7635\n",
      "Epoch 15/50\n",
      "1438/1438 [==============================] - 163s 113ms/step - loss: 0.5214 - accuracy: 0.8313 - val_loss: 0.7970 - val_accuracy: 0.7640\n",
      "Epoch 16/50\n",
      "1438/1438 [==============================] - 162s 113ms/step - loss: 0.5134 - accuracy: 0.8340 - val_loss: 0.8097 - val_accuracy: 0.7631\n",
      "Epoch 17/50\n",
      "1438/1438 [==============================] - 161s 112ms/step - loss: 0.5113 - accuracy: 0.8346 - val_loss: 0.8055 - val_accuracy: 0.7650\n",
      "Epoch 18/50\n",
      "1438/1438 [==============================] - 162s 112ms/step - loss: 0.5023 - accuracy: 0.8376 - val_loss: 0.7997 - val_accuracy: 0.7637\n",
      "Epoch 19/50\n",
      "1438/1438 [==============================] - 162s 113ms/step - loss: 0.5030 - accuracy: 0.8359 - val_loss: 0.8070 - val_accuracy: 0.7616\n",
      "Epoch 20/50\n",
      "1438/1438 [==============================] - 162s 113ms/step - loss: 0.4934 - accuracy: 0.8383 - val_loss: 0.8072 - val_accuracy: 0.7588\n",
      "Epoch 21/50\n",
      "1438/1438 [==============================] - 162s 113ms/step - loss: 0.4953 - accuracy: 0.8382 - val_loss: 0.8071 - val_accuracy: 0.7626\n",
      "Epoch 22/50\n",
      "1438/1438 [==============================] - 162s 113ms/step - loss: 0.4889 - accuracy: 0.8412 - val_loss: 0.8114 - val_accuracy: 0.7602\n",
      "Epoch 23/50\n",
      "1438/1438 [==============================] - 163s 113ms/step - loss: 0.4936 - accuracy: 0.8385 - val_loss: 0.8077 - val_accuracy: 0.7591\n",
      "Epoch 24/50\n",
      "1438/1438 [==============================] - 164s 114ms/step - loss: 0.4834 - accuracy: 0.8420 - val_loss: 0.8150 - val_accuracy: 0.7616\n",
      "Epoch 25/50\n",
      "1438/1438 [==============================] - 162s 113ms/step - loss: 0.4816 - accuracy: 0.8416 - val_loss: 0.8071 - val_accuracy: 0.7630\n",
      "Epoch 26/50\n",
      "1438/1438 [==============================] - 162s 113ms/step - loss: 0.4744 - accuracy: 0.8448 - val_loss: 0.8144 - val_accuracy: 0.7623\n",
      "Epoch 27/50\n",
      "1438/1438 [==============================] - 163s 114ms/step - loss: 0.4751 - accuracy: 0.8439 - val_loss: 0.8114 - val_accuracy: 0.7591\n",
      "Epoch 28/50\n",
      "1438/1438 [==============================] - 162s 113ms/step - loss: 0.4713 - accuracy: 0.8451 - val_loss: 0.8241 - val_accuracy: 0.7590\n",
      "Epoch 29/50\n",
      "1438/1438 [==============================] - 162s 112ms/step - loss: 0.4717 - accuracy: 0.8449 - val_loss: 0.8138 - val_accuracy: 0.7650\n",
      "Epoch 30/50\n",
      "1438/1438 [==============================] - 162s 113ms/step - loss: 0.4580 - accuracy: 0.8498 - val_loss: 0.8222 - val_accuracy: 0.7595\n",
      "Epoch 31/50\n",
      "1438/1438 [==============================] - 162s 113ms/step - loss: 0.4642 - accuracy: 0.8482 - val_loss: 0.8257 - val_accuracy: 0.7570\n",
      "Epoch 32/50\n",
      "1438/1438 [==============================] - 162s 113ms/step - loss: 0.4606 - accuracy: 0.8492 - val_loss: 0.8253 - val_accuracy: 0.7565\n",
      "Epoch 33/50\n",
      "1438/1438 [==============================] - 162s 113ms/step - loss: 0.4571 - accuracy: 0.8503 - val_loss: 0.8213 - val_accuracy: 0.7583\n",
      "Epoch 34/50\n",
      "1438/1438 [==============================] - 170s 118ms/step - loss: 0.4555 - accuracy: 0.8510 - val_loss: 0.8196 - val_accuracy: 0.7612\n",
      "Epoch 35/50\n",
      "1438/1438 [==============================] - 173s 121ms/step - loss: 0.4546 - accuracy: 0.8503 - val_loss: 0.8271 - val_accuracy: 0.7563\n",
      "Epoch 36/50\n",
      "1438/1438 [==============================] - 183s 127ms/step - loss: 0.4514 - accuracy: 0.8528 - val_loss: 0.8268 - val_accuracy: 0.7550\n",
      "Epoch 37/50\n",
      "1438/1438 [==============================] - 185s 129ms/step - loss: 0.4516 - accuracy: 0.8522 - val_loss: 0.8266 - val_accuracy: 0.7570\n",
      "Epoch 38/50\n",
      "1438/1438 [==============================] - 184s 128ms/step - loss: 0.4494 - accuracy: 0.8522 - val_loss: 0.8288 - val_accuracy: 0.7581\n",
      "Epoch 39/50\n",
      "1438/1438 [==============================] - 169s 117ms/step - loss: 0.4492 - accuracy: 0.8537 - val_loss: 0.8323 - val_accuracy: 0.7567\n",
      "Epoch 40/50\n",
      "1438/1438 [==============================] - 168s 117ms/step - loss: 0.4397 - accuracy: 0.8557 - val_loss: 0.8255 - val_accuracy: 0.7619\n",
      "Epoch 41/50\n",
      "1438/1438 [==============================] - 212s 147ms/step - loss: 0.4356 - accuracy: 0.8566 - val_loss: 0.8397 - val_accuracy: 0.7563\n",
      "Epoch 42/50\n",
      "1438/1438 [==============================] - 183s 127ms/step - loss: 0.4394 - accuracy: 0.8551 - val_loss: 0.8317 - val_accuracy: 0.7584\n",
      "Epoch 43/50\n",
      "1438/1438 [==============================] - 174s 121ms/step - loss: 0.4338 - accuracy: 0.8574 - val_loss: 0.8312 - val_accuracy: 0.7610\n",
      "Epoch 44/50\n",
      "1438/1438 [==============================] - 171s 119ms/step - loss: 0.4330 - accuracy: 0.8581 - val_loss: 0.8402 - val_accuracy: 0.7574\n",
      "Epoch 45/50\n",
      "1438/1438 [==============================] - 172s 119ms/step - loss: 0.4313 - accuracy: 0.8584 - val_loss: 0.8372 - val_accuracy: 0.7543\n",
      "Epoch 46/50\n",
      "1438/1438 [==============================] - 168s 117ms/step - loss: 0.4343 - accuracy: 0.8559 - val_loss: 0.8361 - val_accuracy: 0.7600\n",
      "Epoch 47/50\n",
      "1438/1438 [==============================] - 166s 116ms/step - loss: 0.4269 - accuracy: 0.8574 - val_loss: 0.8440 - val_accuracy: 0.7567\n",
      "Epoch 48/50\n",
      "1438/1438 [==============================] - 169s 117ms/step - loss: 0.4270 - accuracy: 0.8580 - val_loss: 0.8412 - val_accuracy: 0.7557\n",
      "Epoch 49/50\n",
      "1438/1438 [==============================] - 171s 119ms/step - loss: 0.4283 - accuracy: 0.8601 - val_loss: 0.8466 - val_accuracy: 0.7570\n",
      "Epoch 50/50\n",
      "1438/1438 [==============================] - 171s 119ms/step - loss: 0.4225 - accuracy: 0.8608 - val_loss: 0.8442 - val_accuracy: 0.7591\n"
     ]
    }
   ],
   "source": [
    "history = minc_model.fit(train_ds, \n",
    "                    epochs=50, \n",
    "                    validation_data=val_ds)"
   ]
  },
  {
   "cell_type": "code",
   "execution_count": 22,
   "metadata": {},
   "outputs": [
    {
     "data": {
      "text/plain": [
       "[<matplotlib.lines.Line2D at 0x1b402ace7d0>]"
      ]
     },
     "execution_count": 22,
     "metadata": {},
     "output_type": "execute_result"
    },
    {
     "data": {
      "image/png": "[encoded data removed]",
      "text/plain": [
       "<Figure size 640x480 with 2 Axes>"
      ]
     },
     "metadata": {},
     "output_type": "display_data"
    }
   ],
   "source": [
    "f,ax=plt.subplots(2,1) #Creates 2 subplots under 1 column\n",
    "#Training loss and validation loss\n",
    "ax[0].plot(history.history['loss'],color='b',label='Training Loss')\n",
    "ax[0].plot(history.history['val_loss'],color='r',label='Validation Loss')\n",
    "#Training accuracy and validation accuracy\n",
    "ax[1].plot(history.history['accuracy'],color='b',label='Training Accuracy')\n",
    "ax[1].plot(history.history['val_accuracy'],color='r',label='Validation Accuracy')"
   ]
  },
  {
   "cell_type": "code",
   "execution_count": 23,
   "metadata": {},
   "outputs": [
    {
     "name": "stdout",
     "output_type": "stream",
     "text": [
      "180/180 [==============================] - 8s 43ms/step - loss: 0.8256 - accuracy: 0.7548\n"
     ]
    }
   ],
   "source": [
    "res = minc_model.evaluate(test_ds)"
   ]
  },
  {
   "cell_type": "markdown",
   "metadata": {},
   "source": [
    "### Best model (Unfreeze with augmentation and hyperparameter tuned)"
   ]
  },
  {
   "cell_type": "code",
   "execution_count": 9,
   "metadata": {},
   "outputs": [
    {
     "name": "stdout",
     "output_type": "stream",
     "text": [
      "Found 46000 images belonging to 23 classes.\n"
     ]
    }
   ],
   "source": [
    "# Augmentation\n",
    "train_aug_ds = image_generator_test.flow_from_directory(\n",
    "  minc_train_dir,\n",
    "  shuffle = True,\n",
    "  target_size = (img_size, img_size),\n",
    "  class_mode = 'categorical',\n",
    "  batch_size = batch_size\n",
    "  )"
   ]
  },
  {
   "cell_type": "code",
   "execution_count": 10,
   "metadata": {},
   "outputs": [],
   "source": [
    "best_dropout = 0.1\n",
    "best_units = 1024\n",
    "best_learning_rate = 0.0006000000000000001"
   ]
  },
  {
   "cell_type": "code",
   "execution_count": 11,
   "metadata": {},
   "outputs": [],
   "source": [
    "# unfreeze the base_model\n",
    "base_model.trainable = True\n",
    "\n",
    "minc_model_Xception=Sequential()\n",
    "#Add the Dense layers along with activation and batch normalization\n",
    "minc_model_Xception.add(base_model)\n",
    "minc_model_Xception.add(Flatten())\n",
    "#Add the Dense layers along with activation and batch normalization\n",
    "minc_model_Xception.add(Dense(best_units,activation='relu')) \n",
    "minc_model_Xception.add(Dropout(best_dropout))\n",
    "minc_model_Xception.add(Dense(best_units,activation='relu'))\n",
    "minc_model_Xception.add(Dropout(best_dropout))\n",
    "minc_model_Xception.add(Dense(best_units,activation='relu'))\n",
    "minc_model_Xception.add(Dropout(best_dropout))\n",
    "minc_model_Xception.add(Dense(len(train_ds.class_indices),activation=('softmax')))\n",
    "\n",
    "minc_model_Xception.compile(optimizer = tf.keras.optimizers.SGD(best_learning_rate), \n",
    "                     loss = 'categorical_crossentropy', \n",
    "                     metrics = ['accuracy'])"
   ]
  },
  {
   "cell_type": "code",
   "execution_count": 12,
   "metadata": {},
   "outputs": [
    {
     "name": "stdout",
     "output_type": "stream",
     "text": [
      "Epoch 1/50\n",
      "1438/1438 [==============================] - 190s 128ms/step - loss: 2.9057 - accuracy: 0.1682 - val_loss: 2.3804 - val_accuracy: 0.3706\n",
      "Epoch 2/50\n",
      "1438/1438 [==============================] - 168s 116ms/step - loss: 2.2282 - accuracy: 0.3698 - val_loss: 1.6841 - val_accuracy: 0.5177\n",
      "Epoch 3/50\n",
      "1438/1438 [==============================] - 165s 115ms/step - loss: 1.7710 - accuracy: 0.4745 - val_loss: 1.4521 - val_accuracy: 0.5701\n",
      "Epoch 4/50\n",
      "1438/1438 [==============================] - 166s 115ms/step - loss: 1.5835 - accuracy: 0.5216 - val_loss: 1.3370 - val_accuracy: 0.6017\n",
      "Epoch 5/50\n",
      "1438/1438 [==============================] - 167s 116ms/step - loss: 1.4671 - accuracy: 0.5573 - val_loss: 1.2651 - val_accuracy: 0.6238\n",
      "Epoch 6/50\n",
      "1438/1438 [==============================] - 166s 115ms/step - loss: 1.3792 - accuracy: 0.5817 - val_loss: 1.2005 - val_accuracy: 0.6381\n",
      "Epoch 7/50\n",
      "1438/1438 [==============================] - 166s 115ms/step - loss: 1.3108 - accuracy: 0.5997 - val_loss: 1.1470 - val_accuracy: 0.6548\n",
      "Epoch 8/50\n",
      "1438/1438 [==============================] - 166s 115ms/step - loss: 1.2495 - accuracy: 0.6155 - val_loss: 1.1036 - val_accuracy: 0.6647\n",
      "Epoch 9/50\n",
      "1438/1438 [==============================] - 169s 117ms/step - loss: 1.1965 - accuracy: 0.6332 - val_loss: 1.0723 - val_accuracy: 0.6762\n",
      "Epoch 10/50\n",
      "1438/1438 [==============================] - 166s 115ms/step - loss: 1.1565 - accuracy: 0.6437 - val_loss: 1.0323 - val_accuracy: 0.6856\n",
      "Epoch 11/50\n",
      "1438/1438 [==============================] - 166s 116ms/step - loss: 1.1131 - accuracy: 0.6578 - val_loss: 1.0049 - val_accuracy: 0.6979\n",
      "Epoch 12/50\n",
      "1438/1438 [==============================] - 167s 116ms/step - loss: 1.0763 - accuracy: 0.6693 - val_loss: 0.9767 - val_accuracy: 0.7000\n",
      "Epoch 13/50\n",
      "1438/1438 [==============================] - 167s 116ms/step - loss: 1.0432 - accuracy: 0.6775 - val_loss: 0.9594 - val_accuracy: 0.7071\n",
      "Epoch 14/50\n",
      "1438/1438 [==============================] - 165s 115ms/step - loss: 1.0178 - accuracy: 0.6847 - val_loss: 0.9457 - val_accuracy: 0.7134\n",
      "Epoch 15/50\n",
      "1438/1438 [==============================] - 166s 115ms/step - loss: 0.9947 - accuracy: 0.6909 - val_loss: 0.9280 - val_accuracy: 0.7177\n",
      "Epoch 16/50\n",
      "1438/1438 [==============================] - 171s 119ms/step - loss: 0.9714 - accuracy: 0.6993 - val_loss: 0.9104 - val_accuracy: 0.7231\n",
      "Epoch 17/50\n",
      "1438/1438 [==============================] - 172s 120ms/step - loss: 0.9467 - accuracy: 0.7048 - val_loss: 0.9032 - val_accuracy: 0.7240\n",
      "Epoch 18/50\n",
      "1438/1438 [==============================] - 170s 118ms/step - loss: 0.9297 - accuracy: 0.7124 - val_loss: 0.8885 - val_accuracy: 0.7283\n",
      "Epoch 19/50\n",
      "1438/1438 [==============================] - 170s 118ms/step - loss: 0.9168 - accuracy: 0.7154 - val_loss: 0.8781 - val_accuracy: 0.7323\n",
      "Epoch 20/50\n",
      "1438/1438 [==============================] - 169s 117ms/step - loss: 0.8940 - accuracy: 0.7207 - val_loss: 0.8673 - val_accuracy: 0.7353\n",
      "Epoch 21/50\n",
      "1438/1438 [==============================] - 165s 115ms/step - loss: 0.8751 - accuracy: 0.7269 - val_loss: 0.8629 - val_accuracy: 0.7350\n",
      "Epoch 22/50\n",
      "1438/1438 [==============================] - 166s 115ms/step - loss: 0.8637 - accuracy: 0.7313 - val_loss: 0.8553 - val_accuracy: 0.7363\n",
      "Epoch 23/50\n",
      "1438/1438 [==============================] - 167s 116ms/step - loss: 0.8494 - accuracy: 0.7332 - val_loss: 0.8445 - val_accuracy: 0.7421\n",
      "Epoch 24/50\n",
      "1438/1438 [==============================] - 167s 116ms/step - loss: 0.8350 - accuracy: 0.7379 - val_loss: 0.8404 - val_accuracy: 0.7402\n",
      "Epoch 25/50\n",
      "1438/1438 [==============================] - 165s 115ms/step - loss: 0.8159 - accuracy: 0.7442 - val_loss: 0.8362 - val_accuracy: 0.7433\n",
      "Epoch 26/50\n",
      "1438/1438 [==============================] - 164s 114ms/step - loss: 0.8059 - accuracy: 0.7480 - val_loss: 0.8354 - val_accuracy: 0.7437\n",
      "Epoch 27/50\n",
      "1438/1438 [==============================] - 165s 115ms/step - loss: 0.7959 - accuracy: 0.7478 - val_loss: 0.8183 - val_accuracy: 0.7510\n",
      "Epoch 28/50\n",
      "1438/1438 [==============================] - 165s 114ms/step - loss: 0.7831 - accuracy: 0.7534 - val_loss: 0.8144 - val_accuracy: 0.7522\n",
      "Epoch 29/50\n",
      "1438/1438 [==============================] - 165s 114ms/step - loss: 0.7753 - accuracy: 0.7566 - val_loss: 0.8186 - val_accuracy: 0.7508\n",
      "Epoch 30/50\n",
      "1438/1438 [==============================] - 166s 115ms/step - loss: 0.7606 - accuracy: 0.7592 - val_loss: 0.8060 - val_accuracy: 0.7483\n",
      "Epoch 31/50\n",
      "1438/1438 [==============================] - 166s 115ms/step - loss: 0.7490 - accuracy: 0.7637 - val_loss: 0.8061 - val_accuracy: 0.7534\n",
      "Epoch 32/50\n",
      "1438/1438 [==============================] - 165s 115ms/step - loss: 0.7404 - accuracy: 0.7657 - val_loss: 0.8042 - val_accuracy: 0.7536\n",
      "Epoch 33/50\n",
      "1438/1438 [==============================] - 165s 115ms/step - loss: 0.7317 - accuracy: 0.7676 - val_loss: 0.7986 - val_accuracy: 0.7539\n",
      "Epoch 34/50\n",
      "1438/1438 [==============================] - 166s 115ms/step - loss: 0.7236 - accuracy: 0.7697 - val_loss: 0.7959 - val_accuracy: 0.7560\n",
      "Epoch 35/50\n",
      "1438/1438 [==============================] - 166s 115ms/step - loss: 0.7102 - accuracy: 0.7753 - val_loss: 0.7926 - val_accuracy: 0.7593\n",
      "Epoch 36/50\n",
      "1438/1438 [==============================] - 166s 115ms/step - loss: 0.6999 - accuracy: 0.7779 - val_loss: 0.7920 - val_accuracy: 0.7593\n",
      "Epoch 37/50\n",
      "1438/1438 [==============================] - 166s 116ms/step - loss: 0.6911 - accuracy: 0.7794 - val_loss: 0.7961 - val_accuracy: 0.7630\n",
      "Epoch 38/50\n",
      "1438/1438 [==============================] - 167s 116ms/step - loss: 0.6825 - accuracy: 0.7828 - val_loss: 0.7835 - val_accuracy: 0.7630\n",
      "Epoch 39/50\n",
      "1438/1438 [==============================] - 168s 116ms/step - loss: 0.6721 - accuracy: 0.7847 - val_loss: 0.7838 - val_accuracy: 0.7633\n",
      "Epoch 40/50\n",
      "1438/1438 [==============================] - 167s 116ms/step - loss: 0.6687 - accuracy: 0.7872 - val_loss: 0.7797 - val_accuracy: 0.7630\n",
      "Epoch 41/50\n",
      "1438/1438 [==============================] - 168s 117ms/step - loss: 0.6531 - accuracy: 0.7918 - val_loss: 0.7890 - val_accuracy: 0.7597\n",
      "Epoch 42/50\n",
      "1438/1438 [==============================] - 166s 116ms/step - loss: 0.6520 - accuracy: 0.7899 - val_loss: 0.7803 - val_accuracy: 0.7666\n",
      "Epoch 43/50\n",
      "1438/1438 [==============================] - 166s 116ms/step - loss: 0.6417 - accuracy: 0.7932 - val_loss: 0.7762 - val_accuracy: 0.7661\n",
      "Epoch 44/50\n",
      "1438/1438 [==============================] - 166s 116ms/step - loss: 0.6285 - accuracy: 0.7976 - val_loss: 0.7741 - val_accuracy: 0.7659\n",
      "Epoch 45/50\n",
      "1438/1438 [==============================] - 167s 116ms/step - loss: 0.6161 - accuracy: 0.8028 - val_loss: 0.7792 - val_accuracy: 0.7689\n",
      "Epoch 46/50\n",
      "1438/1438 [==============================] - 166s 116ms/step - loss: 0.6164 - accuracy: 0.8011 - val_loss: 0.7762 - val_accuracy: 0.7673\n",
      "Epoch 47/50\n",
      "1438/1438 [==============================] - 167s 116ms/step - loss: 0.6122 - accuracy: 0.8051 - val_loss: 0.7708 - val_accuracy: 0.7697\n",
      "Epoch 48/50\n",
      "1438/1438 [==============================] - 167s 116ms/step - loss: 0.5971 - accuracy: 0.8071 - val_loss: 0.7759 - val_accuracy: 0.7692\n",
      "Epoch 49/50\n",
      "1438/1438 [==============================] - 166s 115ms/step - loss: 0.5907 - accuracy: 0.8112 - val_loss: 0.7722 - val_accuracy: 0.7722\n",
      "Epoch 50/50\n",
      "1438/1438 [==============================] - 166s 116ms/step - loss: 0.5901 - accuracy: 0.8097 - val_loss: 0.7734 - val_accuracy: 0.7729\n"
     ]
    }
   ],
   "source": [
    "history = minc_model_Xception.fit(train_aug_ds, \n",
    "                    epochs=50, \n",
    "                    validation_data=val_ds)"
   ]
  },
  {
   "cell_type": "code",
   "execution_count": 13,
   "metadata": {},
   "outputs": [
    {
     "data": {
      "text/plain": [
       "[<matplotlib.lines.Line2D at 0x1b35b158eb0>]"
      ]
     },
     "execution_count": 13,
     "metadata": {},
     "output_type": "execute_result"
    },
    {
     "data": {
      "image/png": "[encoded data removed]",
      "text/plain": [
       "<Figure size 640x480 with 2 Axes>"
      ]
     },
     "metadata": {},
     "output_type": "display_data"
    }
   ],
   "source": [
    "f,ax=plt.subplots(2,1) #Creates 2 subplots under 1 column\n",
    "#Training loss and validation loss\n",
    "ax[0].plot(history.history['loss'],color='b',label='Training Loss')\n",
    "ax[0].plot(history.history['val_loss'],color='r',label='Validation Loss')\n",
    "#Training accuracy and validation accuracy\n",
    "ax[1].plot(history.history['accuracy'],color='b',label='Training Accuracy')\n",
    "ax[1].plot(history.history['val_accuracy'],color='r',label='Validation Accuracy')"
   ]
  },
  {
   "cell_type": "code",
   "execution_count": 15,
   "metadata": {},
   "outputs": [
    {
     "name": "stdout",
     "output_type": "stream",
     "text": [
      "180/180 [==============================] - 8s 43ms/step - loss: 0.7646 - accuracy: 0.7668\n"
     ]
    }
   ],
   "source": [
    "res = minc_model_Xception.evaluate(test_ds)"
   ]
  },
  {
   "cell_type": "code",
   "execution_count": 16,
   "metadata": {},
   "outputs": [
    {
     "name": "stdout",
     "output_type": "stream",
     "text": [
      "180/180 [==============================] - 16s 86ms/step\n"
     ]
    }
   ],
   "source": [
    "pred = minc_model_Xception.predict(test_ds, steps=len(test_ds), verbose=1)"
   ]
  },
  {
   "cell_type": "code",
   "execution_count": 17,
   "metadata": {},
   "outputs": [],
   "source": [
    "predicted_class_indices = np.argmax(pred, axis=1)"
   ]
  },
  {
   "cell_type": "code",
   "execution_count": 18,
   "metadata": {},
   "outputs": [],
   "source": [
    "labels = (test_ds.class_indices)\n",
    "labels = dict((v,k) for k,v in labels.items())\n",
    "predictions = [labels[k] for k in predicted_class_indices]"
   ]
  },
  {
   "cell_type": "code",
   "execution_count": 27,
   "metadata": {},
   "outputs": [],
   "source": [
    "filenames = test_ds.filenames\n",
    "results = pd.DataFrame({\"Filename\":filenames,\n",
    "                      \"Predictions\":predictions})\n",
    "results['Correct_Prediction'] = results.apply(lambda x: x.Predictions in x.Filename, axis=1)"
   ]
  },
  {
   "cell_type": "code",
   "execution_count": 26,
   "metadata": {},
   "outputs": [
    {
     "data": {
      "text/html": [
       "<div>\n",
       "<style scoped>\n",
       "    .dataframe tbody tr th:only-of-type {\n",
       "        vertical-align: middle;\n",
       "    }\n",
       "\n",
       "    .dataframe tbody tr th {\n",
       "        vertical-align: top;\n",
       "    }\n",
       "\n",
       "    .dataframe thead th {\n",
       "        text-align: right;\n",
       "    }\n",
       "</style>\n",
       "<table border=\"1\" class=\"dataframe\">\n",
       "  <thead>\n",
       "    <tr style=\"text-align: right;\">\n",
       "      <th></th>\n",
       "      <th>Filename</th>\n",
       "      <th>Predictions</th>\n",
       "      <th>Correct Prediction</th>\n",
       "    </tr>\n",
       "  </thead>\n",
       "  <tbody>\n",
       "    <tr>\n",
       "      <th>0</th>\n",
       "      <td>brick\\brick_000001.jpg</td>\n",
       "      <td>brick</td>\n",
       "      <td>True</td>\n",
       "    </tr>\n",
       "    <tr>\n",
       "      <th>1</th>\n",
       "      <td>brick\\brick_000006.jpg</td>\n",
       "      <td>brick</td>\n",
       "      <td>True</td>\n",
       "    </tr>\n",
       "    <tr>\n",
       "      <th>2</th>\n",
       "      <td>brick\\brick_000024.jpg</td>\n",
       "      <td>brick</td>\n",
       "      <td>True</td>\n",
       "    </tr>\n",
       "    <tr>\n",
       "      <th>3</th>\n",
       "      <td>brick\\brick_000027.jpg</td>\n",
       "      <td>hair</td>\n",
       "      <td>False</td>\n",
       "    </tr>\n",
       "    <tr>\n",
       "      <th>4</th>\n",
       "      <td>brick\\brick_000035.jpg</td>\n",
       "      <td>stone</td>\n",
       "      <td>False</td>\n",
       "    </tr>\n",
       "    <tr>\n",
       "      <th>...</th>\n",
       "      <td>...</td>\n",
       "      <td>...</td>\n",
       "      <td>...</td>\n",
       "    </tr>\n",
       "    <tr>\n",
       "      <th>5745</th>\n",
       "      <td>wood\\wood_002456.jpg</td>\n",
       "      <td>wood</td>\n",
       "      <td>True</td>\n",
       "    </tr>\n",
       "    <tr>\n",
       "      <th>5746</th>\n",
       "      <td>wood\\wood_002465.jpg</td>\n",
       "      <td>wood</td>\n",
       "      <td>True</td>\n",
       "    </tr>\n",
       "    <tr>\n",
       "      <th>5747</th>\n",
       "      <td>wood\\wood_002472.jpg</td>\n",
       "      <td>polishedstone</td>\n",
       "      <td>False</td>\n",
       "    </tr>\n",
       "    <tr>\n",
       "      <th>5748</th>\n",
       "      <td>wood\\wood_002475.jpg</td>\n",
       "      <td>wood</td>\n",
       "      <td>True</td>\n",
       "    </tr>\n",
       "    <tr>\n",
       "      <th>5749</th>\n",
       "      <td>wood\\wood_002499.jpg</td>\n",
       "      <td>wood</td>\n",
       "      <td>True</td>\n",
       "    </tr>\n",
       "  </tbody>\n",
       "</table>\n",
       "<p>5750 rows × 3 columns</p>\n",
       "</div>"
      ],
      "text/plain": [
       "                    Filename    Predictions  Correct Prediction\n",
       "0     brick\\brick_000001.jpg          brick                True\n",
       "1     brick\\brick_000006.jpg          brick                True\n",
       "2     brick\\brick_000024.jpg          brick                True\n",
       "3     brick\\brick_000027.jpg           hair               False\n",
       "4     brick\\brick_000035.jpg          stone               False\n",
       "...                      ...            ...                 ...\n",
       "5745    wood\\wood_002456.jpg           wood                True\n",
       "5746    wood\\wood_002465.jpg           wood                True\n",
       "5747    wood\\wood_002472.jpg  polishedstone               False\n",
       "5748    wood\\wood_002475.jpg           wood                True\n",
       "5749    wood\\wood_002499.jpg           wood                True\n",
       "\n",
       "[5750 rows x 3 columns]"
      ]
     },
     "execution_count": 26,
     "metadata": {},
     "output_type": "execute_result"
    }
   ],
   "source": [
    "results"
   ]
  }
 ],
 "metadata": {
  "colab": {
   "authorship_tag": "ABX9TyPBUPlhdj8Pbjp8iOdRerSy",
   "collapsed_sections": [],
   "provenance": [
    {
     "file_id": "1Y1ANH_zZ-jbfqVfFCx2WHf0M1Lm4BrKw",
     "timestamp": 1666242923491
    }
   ]
  },
  "kernelspec": {
   "display_name": "test",
   "language": "python",
   "name": "test"
  },
  "language_info": {
   "codemirror_mode": {
    "name": "ipython",
    "version": 3
   },
   "file_extension": ".py",
   "mimetype": "text/x-python",
   "name": "python",
   "nbconvert_exporter": "python",
   "pygments_lexer": "ipython3",
   "version": "3.10.4"
  }
 },
 "nbformat": 4,
 "nbformat_minor": 1
}
